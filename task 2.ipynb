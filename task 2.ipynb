{
 "cells": [
  {
   "cell_type": "markdown",
   "metadata": {},
   "source": [
    "## Task 2\n",
    "Python Introduction\n",
    "\n",
    "Create a notebook file with the name os task 2 create functions for following in python(no libraries):\n",
    "1. Mean / Meadian / Mode Calculation of a list of numbers. \n",
    "2. A function that can calculate variance for the same list you used in part 1.\n",
    "3. A function that can calculate standard deviation the same list you used in part 1.\n",
    "4. Euclidean distance for 2 values or 2 lists.\n",
    "5. Sigmoid Fuction. "
   ]
  },
  {
   "cell_type": "markdown",
   "metadata": {},
   "source": [
    "## Solutions"
   ]
  },
  {
   "cell_type": "markdown",
   "metadata": {},
   "source": [
    "1. Mean / Mode / Median"
   ]
  },
  {
   "cell_type": "code",
   "execution_count": null,
   "metadata": {},
   "outputs": [],
   "source": [
    "def mean(data:list) -> float:\n",
    "    return float(sum(data))/len(data)\n",
    "\n",
    "def mode(data:list) -> list:\n",
    "    mode_num = 0\n",
    "    modes = []\n",
    "    count = 0\n",
    "    for num in data:\n",
    "        count = data.count(num)\n",
    "        if count > mode_num:\n",
    "            mode_num = num\n",
    "    modes.append(mode_num)\n",
    "    for num in data:\n",
    "        if data.count(num) == data.count(mode_num):\n",
    "            modes.append(mode_num)\n",
    "    return modes\n",
    "            \n",
    "\n",
    "def medina(data:list) -> int:\n",
    "    if (len(data)%2 == 0): return data[len(data)//2-1]+data[len(data//2)]/2\n",
    "    else: return data(len(data)//2)"
   ]
  },
  {
   "cell_type": "markdown",
   "metadata": {},
   "source": [
    "2. Vairance"
   ]
  },
  {
   "cell_type": "code",
   "execution_count": null,
   "metadata": {},
   "outputs": [],
   "source": [
    "def calculate_variance(data: list) -> float:\n",
    "    single_variance = 0\n",
    "    for num in data:\n",
    "        single_variance += (num - mean(data))**2\n",
    "    return single_variance/len(data)"
   ]
  },
  {
   "cell_type": "markdown",
   "metadata": {},
   "source": [
    "3. Standard Deviation"
   ]
  },
  {
   "cell_type": "code",
   "execution_count": 5,
   "metadata": {},
   "outputs": [],
   "source": [
    "def calculate_standard_deviation(data: list):\n",
    "    return pow(calculate_variance(data), 0.5)"
   ]
  },
  {
   "cell_type": "markdown",
   "metadata": {},
   "source": [
    "4. Euclidean Distance"
   ]
  },
  {
   "cell_type": "code",
   "execution_count": null,
   "metadata": {},
   "outputs": [],
   "source": [
    "def euclidean_distance(a, b):\n",
    "    if (type(a) == int or type(a) == float) and (type(b) == int or type(b) == float):\n",
    "        return abs(a-b)\n",
    "    elif(type(a) == list and type(b) == list) and len(a)==len(b):\n",
    "        euc_dist = []\n",
    "        for x,y in a,b:\n",
    "            euc_dist.append(abs(x-y))\n",
    "        return euc_dist\n",
    "    else:\n",
    "        ValueError(\"Both inputs must be numbers or lists of equal length\")"
   ]
  }
 ],
 "metadata": {
  "kernelspec": {
   "display_name": "Python 3",
   "language": "python",
   "name": "python3"
  },
  "language_info": {
   "codemirror_mode": {
    "name": "ipython",
    "version": 3
   },
   "file_extension": ".py",
   "mimetype": "text/x-python",
   "name": "python",
   "nbconvert_exporter": "python",
   "pygments_lexer": "ipython3",
   "version": "3.13.2"
  }
 },
 "nbformat": 4,
 "nbformat_minor": 2
}
