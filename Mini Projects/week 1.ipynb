{
 "cells": [
  {
   "cell_type": "markdown",
   "metadata": {},
   "source": [
    "## Week 1 Mini-Project: Python Basics\n",
    "Objective:\n",
    "Learners will practice fundamental Python concepts like variables, dictionaries, functions,\n",
    "conditionals, loops, and input handling through six fun exercises.\n",
    "Project Setup:\n",
    "1. Create a folder named Week1_MiniProject in the GDGOC_ML/DL GitHub repo.\n",
    "2. Save all the solutions in a single Python file named week1_project.py\n",
    "3. Upload your file to GitHub upon completion.\n"
   ]
  },
  {
   "cell_type": "markdown",
   "metadata": {},
   "source": [
    "## Questions & Code Implementation Guide"
   ]
  },
  {
   "cell_type": "markdown",
   "metadata": {},
   "source": [
    "Question 1: User Data Collector\n",
    "Concepts Used: Input handling, dictionaries, validation, formatted strings\n",
    "Task:\n",
    "● Prompt the user to enter their name, age, email, and favorite number.\n",
    "● Store them in a dictionary.\n",
    "● Validate the email format (must contain @ and .).\n",
    "● Display a formatted output.\n",
    "🔹 Hint: Use Python's in keyword to check if @ and . exist in the email."
   ]
  },
  {
   "cell_type": "markdown",
   "metadata": {},
   "source": [
    "Question 2: Even or Odd?\n",
    "Concepts Used: Functions, conditionals\n",
    "Task:\n",
    "● Create a function Is_even(number) that checks if a number is even.\n",
    "● Print whether the number is even or odd.\n",
    "🔹 Hint: Use the modulo operator % (i.e., number % 2 == 0)."
   ]
  },
  {
   "cell_type": "markdown",
   "metadata": {},
   "source": [
    "Question 3: Temperature Converter\n",
    "Concepts Used: Functions, conditionals, arithmetic operations\n",
    "Task:\n",
    "● Create a function convert_temperature(temp, scale) that takes:\n",
    "● A temperature value\n",
    "● A scale (\"C\" for Celsius, \"F\" for Fahrenheit)\n",
    "Convert:\n",
    "● Celsius → Fahrenheit: (temp * 9/5) + 32\n",
    "● Fahrenheit → Celsius: (temp - 32) * 5/9\n",
    "● Display the converted temperature.\n",
    "🔹 Hint: Use if conditions to check which scale to convert."
   ]
  },
  {
   "cell_type": "markdown",
   "metadata": {},
   "source": [
    "Question 4: Finding Min & Max\n",
    "Concepts Used: Lists, functions, input handling\n",
    "Task:\n",
    "Create a function find_max_min(numbers_list) that returns the max and min values from a list.\n",
    "Prompt the user to enter 5 numbers, store them in a list, and find the min/max.\n",
    "🔹 Hint: Use Python’s built-in max() and min() functions."
   ]
  },
  {
   "cell_type": "markdown",
   "metadata": {},
   "source": [
    "Question 5: Student Data Manager\n",
    "Concepts Used: Lists, tuples, dictionaries, loops\n",
    "Task:\n",
    "● Prompt the user to enter details of 3 students (name, age, grade).\n",
    "● Store them as tuples in a list.\n",
    "● Convert this list into a dictionary, where:\n",
    "● Key → Student name\n",
    "● Value → Tuple (age, grade)\n",
    "● Display the dictionary.\n",
    "🔹 Hint: Use a for loop and dict() to create the dictionary."
   ]
  },
  {
   "cell_type": "markdown",
   "metadata": {},
   "source": [
    "Question 6: Inventory Management System\n",
    "Concepts Used: Dictionaries, functions, conditionals\n",
    "Task:\n",
    "● Create a function update_inventory(inventory_dict, item, quantity) that:\n",
    "● Takes an inventory dictionary {item: quantity}\n",
    "● Updates the quantity (+ for adding, - for removing)\n",
    "● Ensures quantity doesn’t go below zero\n",
    "● Returns the updated inventory\n",
    "● Initialize an inventory with 5 items.\n",
    "● Prompt the user to update the inventory for 3 items.\n",
    "● Display the updated inventory.\n",
    "🔹 Hint: Use max(0, updated_quantity) to prevent negative values."
   ]
  },
  {
   "cell_type": "markdown",
   "metadata": {},
   "source": [
    "## Submission Guidelines\n",
    "1. Create a folder Week1_MiniProject inside your GitHub repo GDGOC_ML/DL.\n",
    "2. Save your Python file as week1_project.py inside this folder.\n",
    "3. Push it to GitHub."
   ]
  },
  {
   "cell_type": "markdown",
   "metadata": {},
   "source": [
    "## Solutions"
   ]
  },
  {
   "cell_type": "code",
   "execution_count": null,
   "metadata": {},
   "outputs": [],
   "source": [
    "# Question 1\n",
    "user_data = {}\n",
    "user_data[\"name\"] = input(\"Enter your name: \")\n",
    "user_data[\"age\"] = input(\"Enter your age: \")\n",
    "user_data[\"email\"] = input(\"Enter your email: \")\n",
    "user_data[\"favorite_number\"] = input(\"Enter your favorite number: \")\n",
    "\n",
    "# Validate email\n",
    "if \"@\" in user_data[\"email\"] and \".\" in user_data[\"email\"]:\n",
    "    print(\"\\nUser Data:\")\n",
    "    for key, value in user_data.items():\n",
    "        print(f\"{key.capitalize()}: {value}\")\n",
    "else:\n",
    "    print(\"Invalid email format. Please try again.\")"
   ]
  },
  {
   "cell_type": "code",
   "execution_count": null,
   "metadata": {},
   "outputs": [],
   "source": [
    "# Question 2\n",
    "num = int(input(\"Enter a number: \"))\n",
    "if num%2 == 0:\n",
    "    print(f\"{num} is even.\")\n",
    "else:\n",
    "    print(f\"{num} is odd.\")"
   ]
  },
  {
   "cell_type": "code",
   "execution_count": null,
   "metadata": {},
   "outputs": [],
   "source": [
    "# Question 3\n",
    "temp = float(input(\"Enter temperature value: \"))\n",
    "scale = input(\"Enter scale (C/F): \")\n",
    "if scale.upper() == \"C\":\n",
    "    temp = (temp * 9/5) + 32\n",
    "elif scale.upper() == \"F\":\n",
    "    temp = (temp - 32) * 5/9\n",
    "else:\n",
    "    print(\"Invalid scale. Use 'C' or 'F'.\")\n",
    "print(f\"Converted Temperature: {temp}\")"
   ]
  },
  {
   "cell_type": "code",
   "execution_count": null,
   "metadata": {},
   "outputs": [],
   "source": [
    "# Question 4\n",
    "numbers = [int(input(f\"Enter number {i+1}: \")) for i in range(5)]\n",
    "max_val, min_val = max(numbers), min(numbers)\n",
    "print(f\"Max: {max_val}, Min: {min_val}\")"
   ]
  },
  {
   "cell_type": "code",
   "execution_count": null,
   "metadata": {},
   "outputs": [],
   "source": [
    "# Question 5\n",
    "students = []\n",
    "for i in range(3):\n",
    "    name = input(f\"Enter student {i+1} name: \")\n",
    "    age = input(\"Enter age: \")\n",
    "    grade = input(\"Enter grade: \")\n",
    "    students.append((name, age, grade))\n",
    "\n",
    "student_dict = {student[0]: (student[1], student[2]) for student in students}\n",
    "print(\"\\nStudent Data:\")\n",
    "for name, details in student_dict.items():\n",
    "    print(f\"{name}: Age {details[0]}, Grade {details[1]}\")"
   ]
  },
  {
   "cell_type": "code",
   "execution_count": null,
   "metadata": {},
   "outputs": [],
   "source": [
    "# Question 6\n",
    "def update_inventory(inventory_dict, item, quantity):\n",
    "    if item in inventory_dict:\n",
    "        inventory_dict[item] = max(0, inventory_dict[item] + quantity)\n",
    "    else:\n",
    "        inventory_dict[item] = max(0, quantity)\n",
    "    return inventory_dict\n",
    "\n",
    "inventory = {\"Apples\": 10, \"Bananas\": 5, \"Oranges\": 8, \"Milk\": 2, \"Bread\": 4}\n",
    "print(\"\\nCurrent Inventory:\", inventory)\n",
    "\n",
    "for _ in range(3):\n",
    "    item = input(\"Enter item name: \")\n",
    "    quantity = int(input(\"Enter quantity (+ to add, - to remove): \"))\n",
    "    inventory = update_inventory(inventory, item, quantity)\n",
    "\n",
    "print(\"Updated Inventory:\", inventory)"
   ]
  }
 ],
 "metadata": {
  "language_info": {
   "name": "python"
  }
 },
 "nbformat": 4,
 "nbformat_minor": 2
}
