{
 "cells": [
  {
   "cell_type": "markdown",
   "metadata": {},
   "source": [
    "## Task 3"
   ]
  },
  {
   "cell_type": "markdown",
   "metadata": {},
   "source": [
    "Solve the following problems:\n",
    "\n",
    "1. MSE\n",
    "2. RMSE\n",
    "3. Cosine Similarity \n",
    "4. Linear Regression \n",
    "5. Softmax Function"
   ]
  },
  {
   "cell_type": "markdown",
   "metadata": {},
   "source": [
    "## Solutions"
   ]
  },
  {
   "cell_type": "markdown",
   "metadata": {},
   "source": [
    "1. MSE"
   ]
  },
  {
   "cell_type": "code",
   "execution_count": 3,
   "metadata": {},
   "outputs": [],
   "source": [
    "def mse(actual_values: list, predicted_values: list) -> float:\n",
    "    if len(actual_values) == len(predicted_values):\n",
    "        sq_diff = 0\n",
    "        for i in range(len(actual_values)):\n",
    "            sq_diff += (actual_values[i] - predicted_values[i]) ** 2\n",
    "        return sq_diff/len(actual_values)\n",
    "    else: ValueError(\"Both lists must be of equal length.\")\n"
   ]
  },
  {
   "cell_type": "markdown",
   "metadata": {},
   "source": [
    "2. RMSE"
   ]
  },
  {
   "cell_type": "code",
   "execution_count": 4,
   "metadata": {},
   "outputs": [],
   "source": [
    "def rmse(actual_values: list, predicted_values: list) -> float:\n",
    "    return pow(mse(actual_values, predicted_values), 0.5)"
   ]
  },
  {
   "cell_type": "markdown",
   "metadata": {},
   "source": [
    "3. Cosine Similarity"
   ]
  },
  {
   "cell_type": "code",
   "execution_count": 7,
   "metadata": {},
   "outputs": [],
   "source": [
    "def magnitude(v):\n",
    "    return pow(sum(x ** 2 for x in v), 0.5)\n",
    "\n",
    "def cosine_similarity(a, b):\n",
    "    summ = sum(a[i] * b[i] for i in range(len(a)))\n",
    "    return summ / (magnitude(a) * magnitude(b))\n"
   ]
  },
  {
   "cell_type": "markdown",
   "metadata": {},
   "source": [
    "4. Linear Regression"
   ]
  },
  {
   "cell_type": "code",
   "execution_count": 9,
   "metadata": {},
   "outputs": [],
   "source": [
    "def linear_regression(x, y):\n",
    "    n = len(x)\n",
    "    sum_x, sum_y, sum_xy, sum_x2 = 0, 0, 0, 0\n",
    "    \n",
    "    for i in range(n):\n",
    "        sum_x += x[i]\n",
    "        sum_y += y[i]\n",
    "        sum_xy += x[i] * y[i]\n",
    "        sum_x2 += x[i] ** 2\n",
    "    \n",
    "    slope = (n * sum_xy - sum_x * sum_y) / (n * sum_x2 - sum_x ** 2)\n",
    "    intercept = (sum_y - slope * sum_x) / n\n",
    "    return slope, intercept\n"
   ]
  },
  {
   "cell_type": "markdown",
   "metadata": {},
   "source": [
    "5. Softmax"
   ]
  }
 ],
 "metadata": {
  "kernelspec": {
   "display_name": "Python 3",
   "language": "python",
   "name": "python3"
  },
  "language_info": {
   "codemirror_mode": {
    "name": "ipython",
    "version": 3
   },
   "file_extension": ".py",
   "mimetype": "text/x-python",
   "name": "python",
   "nbconvert_exporter": "python",
   "pygments_lexer": "ipython3",
   "version": "3.13.2"
  }
 },
 "nbformat": 4,
 "nbformat_minor": 2
}
