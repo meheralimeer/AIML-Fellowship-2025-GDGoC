{
 "cells": [
  {
   "cell_type": "markdown",
   "metadata": {},
   "source": [
    "## Task 2\n",
    "Python Introduction\n",
    "\n",
    "Create a notebook file with the name os task 2 create functions for following in python(no libraries):\n",
    "1. Mean / Meadian / Mode Calculation of a list of numbers. \n",
    "2. A function that can calculate variance for the same list you used in part 1.\n",
    "3. A function that can calculate standard deviation the same list you used in part 1.\n",
    "4. Euclidean distance for 2 values or 2 lists.\n",
    "5. Sigmoid Fuction. "
   ]
  },
  {
   "cell_type": "markdown",
   "metadata": {},
   "source": [
    "## Solutions"
   ]
  },
  {
   "cell_type": "markdown",
   "metadata": {},
   "source": [
    "1. Mean / Mode / Median"
   ]
  },
  {
   "cell_type": "code",
   "execution_count": 59,
   "metadata": {},
   "outputs": [],
   "source": [
    "def mean(data:list) -> float:\n",
    "    return float(sum(data))/len(data)\n",
    "\n",
    "def mode(data:list) -> list:\n",
    "    mode_num = 0\n",
    "    modes = []\n",
    "    count = 0\n",
    "    for num in data:\n",
    "        count = data.count(num)\n",
    "        if count > mode_num:\n",
    "            mode_num = num\n",
    "    modes.append(mode_num)\n",
    "    for num in data:\n",
    "        if data.count(num) == data.count(mode_num) and num != mode_num:\n",
    "            modes.append(mode_num)\n",
    "    return modes\n",
    "            \n",
    "\n",
    "def median(data:list) -> int:\n",
    "    if (len(data)%2 == 0): return data[len(data)//2-1]+data[len(data)//2]/2\n",
    "    else: return data(len(data)//2)"
   ]
  },
  {
   "cell_type": "markdown",
   "metadata": {},
   "source": [
    "2. Vairance"
   ]
  },
  {
   "cell_type": "code",
   "execution_count": 60,
   "metadata": {},
   "outputs": [],
   "source": [
    "def calculate_variance(data: list) -> float:\n",
    "    single_variance = 0\n",
    "    for num in data:\n",
    "        single_variance += (num - mean(data))**2\n",
    "    return single_variance/len(data)"
   ]
  },
  {
   "cell_type": "markdown",
   "metadata": {},
   "source": [
    "3. Standard Deviation"
   ]
  },
  {
   "cell_type": "code",
   "execution_count": 61,
   "metadata": {},
   "outputs": [],
   "source": [
    "def calculate_standard_deviation(data: list):\n",
    "    return pow(calculate_variance(data), 0.5)"
   ]
  },
  {
   "cell_type": "markdown",
   "metadata": {},
   "source": [
    "4. Euclidean Distance"
   ]
  },
  {
   "cell_type": "code",
   "execution_count": 62,
   "metadata": {},
   "outputs": [],
   "source": [
    "def euclidean_distance(a, b):\n",
    "    if (type(a) == int or type(a) == float) and (type(b) == int or type(b) == float):\n",
    "        return abs(a-b)\n",
    "    elif(type(a) == list and type(b) == list) and len(a)==len(b):\n",
    "        return [abs(x-y) for x,y in zip(a,b)]\n",
    "    else:\n",
    "        ValueError(\"Both inputs must be numbers or lists of equal length\")"
   ]
  },
  {
   "cell_type": "markdown",
   "metadata": {},
   "source": [
    "5. Sigmoid"
   ]
  },
  {
   "cell_type": "code",
   "execution_count": 63,
   "metadata": {},
   "outputs": [],
   "source": [
    "def sigmoid(x):\n",
    "    return 1/(1+(2.718)**(-x))"
   ]
  },
  {
   "cell_type": "markdown",
   "metadata": {},
   "source": [
    "## Tests"
   ]
  },
  {
   "cell_type": "code",
   "execution_count": 64,
   "metadata": {},
   "outputs": [
    {
     "name": "stdout",
     "output_type": "stream",
     "text": [
      "Mean: 3.3333333333333335\n",
      "Median: 5.0\n",
      "Mode: [5]\n",
      "Variance: 2.2222222222222223\n",
      "Standard Deviation: 1.4907119849998598\n",
      "Euclidean Distance (between 3 and 7): 4\n",
      "Euclidean Distance (between lists [1,2] and [4,6]): [3, 4]\n",
      "Sigmoid(2): 0.8807753038918279\n"
     ]
    }
   ],
   "source": [
    "numbers = [1, 2, 3, 4, 5, 5]\n",
    "print(\"Mean:\", mean(numbers))\n",
    "print(\"Median:\", median(numbers))\n",
    "print(\"Mode:\", mode(numbers))\n",
    "print(\"Variance:\", calculate_variance(numbers))\n",
    "print(\"Standard Deviation:\", calculate_standard_deviation(numbers))\n",
    "print(\"Euclidean Distance (between 3 and 7):\", euclidean_distance(3, 7))\n",
    "print(\"Euclidean Distance (between lists [1,2] and [4,6]):\", euclidean_distance([1,2], [4,6]))\n",
    "print(\"Sigmoid(2):\", sigmoid(2))"
   ]
  }
 ],
 "metadata": {
  "kernelspec": {
   "display_name": "Python 3",
   "language": "python",
   "name": "python3"
  },
  "language_info": {
   "codemirror_mode": {
    "name": "ipython",
    "version": 3
   },
   "file_extension": ".py",
   "mimetype": "text/x-python",
   "name": "python",
   "nbconvert_exporter": "python",
   "pygments_lexer": "ipython3",
   "version": "3.13.2"
  }
 },
 "nbformat": 4,
 "nbformat_minor": 2
}
