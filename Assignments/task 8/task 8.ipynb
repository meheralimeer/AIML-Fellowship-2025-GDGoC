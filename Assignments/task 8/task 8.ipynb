{
 "cells": [
  {
   "cell_type": "markdown",
   "metadata": {},
   "source": [
    "# Python Iterators & Generators Deep Dive\n",
    "Understanding iteration protocols and lazy evaluation"
   ]
  },
  {
   "cell_type": "markdown",
   "metadata": {},
   "source": [
    "## 1. Iterables vs Iterators"
   ]
  },
  {
   "cell_type": "code",
   "execution_count": null,
   "metadata": {},
   "outputs": [
    {
     "name": "stdout",
     "output_type": "stream",
     "text": [
      "Type check:\n",
      "numbers is iterable: True\n",
      "iterator is iterator: True\n",
      "\n",
      "Manual iteration:\n",
      "1\n",
      "2\n",
      "3\n",
      "4\n",
      "\n",
      "Caught StopIteration!\n"
     ]
    }
   ],
   "source": [
    "# Demonstrate iterable vs iterator\n",
    "numbers = [1, 2, 3, 4]  # Iterable\n",
    "iterator = iter(numbers)  # Create iterator\n",
    "\n",
    "print(\"Type check:\")\n",
    "print(f\"numbers is iterable: {hasattr(numbers, '__iter__')}\")\n",
    "print(f\"iterator is iterator: {hasattr(iterator, '__next__')}\")\n",
    "\n",
    "print(\"\\nManual iteration:\")\n",
    "print(next(iterator))\n",
    "print(next(iterator))\n",
    "print(next(iterator))\n",
    "print(next(iterator))\n",
    "\n",
    "try:\n",
    "    print(next(iterator))  # Exhausted iterator\n",
    "except StopIteration:\n",
    "    print(\"\\nCaught StopIteration!\")\n"
   ]
  },
  {
   "cell_type": "markdown",
   "metadata": {},
   "source": [
    "## 2. Custom Iterator Implementation"
   ]
  },
  {
   "cell_type": "code",
   "execution_count": null,
   "metadata": {},
   "outputs": [
    {
     "name": "stdout",
     "output_type": "stream",
     "text": [
      "Factors of 20:\n",
      "1\n",
      "2\n",
      "4\n",
      "5\n",
      "10\n",
      "20\n"
     ]
    }
   ],
   "source": [
    "class FactorIterator:\n",
    "    \"\"\"Custom iterator for finding factors\"\"\"\n",
    "    def __init__(self, n):\n",
    "        self.n = n\n",
    "        self.current = 0\n",
    "        \n",
    "    def __iter__(self):\n",
    "        return self\n",
    "    \n",
    "    def __next__(self):\n",
    "        while self.current < self.n:\n",
    "            self.current += 1\n",
    "            if self.n % self.current == 0:\n",
    "                return self.current\n",
    "        raise StopIteration\n",
    "\n",
    "# Usage\n",
    "factors = FactorIterator(20)\n",
    "print(\"Factors of 20:\")\n",
    "for factor in factors:\n",
    "    print(factor)\n"
   ]
  },
  {
   "cell_type": "markdown",
   "metadata": {},
   "source": [
    "## 3. Generator Implementation"
   ]
  },
  {
   "cell_type": "code",
   "execution_count": null,
   "metadata": {},
   "outputs": [
    {
     "name": "stdout",
     "output_type": "stream",
     "text": [
      "Generator factors:\n",
      "[1, 2, 4, 5, 10, 20]\n",
      "\n",
      "Generator expression factors:\n",
      "[1, 2, 4, 5, 10, 20]\n"
     ]
    }
   ],
   "source": [
    "def factors_generator(n):\n",
    "    \"\"\"Generator version of factors\"\"\"\n",
    "    current = 0\n",
    "    while current < n:\n",
    "        current += 1\n",
    "        if n % current == 0:\n",
    "            yield current\n",
    "\n",
    "# Usage\n",
    "gen = factors_generator(20)\n",
    "print(\"Generator factors:\")\n",
    "print(list(gen))\n",
    "\n",
    "# Generator expression\n",
    "gen_expr = (x for x in range(1, 21) if 20 % x == 0)\n",
    "print(\"\\nGenerator expression factors:\")\n",
    "print(list(gen_expr))\n"
   ]
  },
  {
   "cell_type": "markdown",
   "metadata": {},
   "source": [
    "## 4. Lazy Evaluation Demo"
   ]
  },
  {
   "cell_type": "code",
   "execution_count": null,
   "metadata": {},
   "outputs": [
    {
     "name": "stdout",
     "output_type": "stream",
     "text": [
      "First 10 numbers from infinite generator:\n",
      "0 1 2 3 4 5 6 7 8 9 "
     ]
    }
   ],
   "source": [
    "def infinite_sequence():\n",
    "    num = 0\n",
    "    while True:\n",
    "        yield num\n",
    "        num += 1\n",
    "\n",
    "gen = infinite_sequence()\n",
    "print(\"First 10 numbers from infinite generator:\")\n",
    "for _ in range(10):\n",
    "    print(next(gen), end=' ')\n"
   ]
  },
  {
   "cell_type": "markdown",
   "metadata": {},
   "source": [
    "## 5. State Maintenance in Generators"
   ]
  },
  {
   "cell_type": "code",
   "execution_count": null,
   "metadata": {},
   "outputs": [
    {
     "name": "stdout",
     "output_type": "stream",
     "text": [
      "\n",
      "\n",
      "Multiple yields:\n",
      "First yield\n",
      "Second yield\n",
      "Third yield\n",
      "\n",
      "Generator exhausted!\n"
     ]
    }
   ],
   "source": [
    "def multi_yield():\n",
    "    yield \"First yield\"\n",
    "    yield \"Second yield\"\n",
    "    yield \"Third yield\"\n",
    "\n",
    "gen = multi_yield()\n",
    "print(\"\\n\\nMultiple yields:\")\n",
    "print(next(gen))\n",
    "print(next(gen))\n",
    "print(next(gen))\n",
    "try:\n",
    "    print(next(gen))\n",
    "except StopIteration:\n",
    "    print(\"\\nGenerator exhausted!\")\n"
   ]
  },
  {
   "cell_type": "markdown",
   "metadata": {},
   "source": [
    "## 6. When to Use Each"
   ]
  },
  {
   "cell_type": "markdown",
   "metadata": {},
   "source": [
    "### Use Iterators When:\n",
    "- Need complex state management\n",
    "- Require additional methods beyond iteration\n",
    "- Implementing custom collection types\n",
    "\n",
    "### Use Generators When:\n",
    "- Dealing with large datasets\n",
    "- Need simple iteration patterns\n",
    "- Memory efficiency is critical\n",
    "- Want to simplify code with lazy evaluation"
   ]
  },
  {
   "cell_type": "markdown",
   "metadata": {},
   "source": [
    "## 7. Practical Exercise"
   ]
  },
  {
   "cell_type": "code",
   "execution_count": null,
   "metadata": {},
   "outputs": [
    {
     "name": "stdout",
     "output_type": "stream",
     "text": [
      "\n",
      "Fibonacci sequence:\n",
      "0 1 1 2 3 5 8 13 21 34 55 89 "
     ]
    }
   ],
   "source": [
    "# Exercise: Create a generator that produces Fibonacci numbers\n",
    "def fibonacci_generator(limit):\n",
    "    a, b = 0, 1\n",
    "    while a < limit:\n",
    "        yield a\n",
    "        a, b = b, a + b\n",
    "\n",
    "# Test your implementation\n",
    "print(\"\\nFibonacci sequence:\")\n",
    "for num in fibonacci_generator(100):\n",
    "    print(num, end=' ')\n"
   ]
  }
 ],
 "metadata": {
  "kernelspec": {
   "display_name": ".venv (3.13.3)",
   "language": "python",
   "name": "python3"
  },
  "language_info": {
   "codemirror_mode": {
    "name": "ipython",
    "version": 3
   },
   "file_extension": ".py",
   "mimetype": "text/x-python",
   "name": "python",
   "nbconvert_exporter": "python",
   "pygments_lexer": "ipython3",
   "version": "3.13.3"
  }
 },
 "nbformat": 4,
 "nbformat_minor": 2
}
