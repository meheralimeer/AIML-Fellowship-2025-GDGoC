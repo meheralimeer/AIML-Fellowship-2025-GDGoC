{
 "cells": [
  {
   "cell_type": "markdown",
   "metadata": {},
   "source": [
    "# Mobile Phone Data Cleaning and Preprocessing Pipeline"
   ]
  },
  {
   "cell_type": "markdown",
   "metadata": {},
   "source": [
    "## 1. Import Required Libraries"
   ]
  },
  {
   "cell_type": "code",
   "execution_count": 3,
   "metadata": {},
   "outputs": [],
   "source": [
    "import pandas as pd\n",
    "import numpy as np\n",
    "import re\n",
    "from sklearn.preprocessing import OneHotEncoder, StandardScaler\n",
    "from sklearn.model_selection import train_test_split\n"
   ]
  },
  {
   "cell_type": "markdown",
   "metadata": {},
   "source": [
    "## 2. Load and Inspect Raw Data"
   ]
  },
  {
   "cell_type": "code",
   "execution_count": 4,
   "metadata": {},
   "outputs": [
    {
     "name": "stdout",
     "output_type": "stream",
     "text": [
      "\n",
      "Initial Dataset Shape: (1020, 12)\n",
      "\n",
      "First 5 Rows:\n"
     ]
    },
    {
     "data": {
      "text/html": [
       "<div>\n",
       "<style scoped>\n",
       "    .dataframe tbody tr th:only-of-type {\n",
       "        vertical-align: middle;\n",
       "    }\n",
       "\n",
       "    .dataframe tbody tr th {\n",
       "        vertical-align: top;\n",
       "    }\n",
       "\n",
       "    .dataframe thead th {\n",
       "        text-align: right;\n",
       "    }\n",
       "</style>\n",
       "<table border=\"1\" class=\"dataframe\">\n",
       "  <thead>\n",
       "    <tr style=\"text-align: right;\">\n",
       "      <th></th>\n",
       "      <th>mobile_name</th>\n",
       "      <th>price</th>\n",
       "      <th>rating</th>\n",
       "      <th>specs_score</th>\n",
       "      <th>connectivity</th>\n",
       "      <th>processor</th>\n",
       "      <th>storage</th>\n",
       "      <th>battery</th>\n",
       "      <th>display</th>\n",
       "      <th>camera</th>\n",
       "      <th>extra_storage</th>\n",
       "      <th>os</th>\n",
       "    </tr>\n",
       "  </thead>\n",
       "  <tbody>\n",
       "    <tr>\n",
       "      <th>0</th>\n",
       "      <td>OPPO Reno 11</td>\n",
       "      <td>₹29,990</td>\n",
       "      <td>4.70</td>\n",
       "      <td>86.0</td>\n",
       "      <td>Dual Sim, 3G, 4G, 5G, VoLTE, Wi-Fi, NFC, IR Bl...</td>\n",
       "      <td>Dimensity 8200, Octa Core, 3.1 GHz Processor</td>\n",
       "      <td>8 GB RAM, 256 GB inbuilt</td>\n",
       "      <td>4800 mAh Battery with 67W Fast Charging</td>\n",
       "      <td>6.7 inches, 1080 x 2412 px, 120 Hz Display wit...</td>\n",
       "      <td>50 MP + 32 MP + 8 MP Triple Rear &amp; 32 MP Front...</td>\n",
       "      <td>Android v14</td>\n",
       "      <td>No FM Radio</td>\n",
       "    </tr>\n",
       "    <tr>\n",
       "      <th>1</th>\n",
       "      <td>Poco X6 Pro 5G</td>\n",
       "      <td>₹19,999</td>\n",
       "      <td>4.50</td>\n",
       "      <td>84.0</td>\n",
       "      <td>Dual Sim, 3G, 4G, 5G, VoLTE, Wi-Fi, NFC, IR Bl...</td>\n",
       "      <td>Dimensity 8300 Ultra, Octa Core, 3.35 GHz Proc...</td>\n",
       "      <td>12 GB RAM, 256 GB inbuilt</td>\n",
       "      <td>5500 mAh Battery with 90W Fast Charging</td>\n",
       "      <td>6.67 inches, 1220 x 2712 px, 120 Hz Display wi...</td>\n",
       "      <td>64 MP + 8 MP + 2 MP Triple Rear &amp; 16 MP Front ...</td>\n",
       "      <td>Android v14</td>\n",
       "      <td>No FM Radio</td>\n",
       "    </tr>\n",
       "    <tr>\n",
       "      <th>2</th>\n",
       "      <td>Xiaomi Redmi Note 13 Pro Plus</td>\n",
       "      <td>₹31,999</td>\n",
       "      <td>4.35</td>\n",
       "      <td>87.0</td>\n",
       "      <td>Dual Sim, 3G, 4G, 5G, VoLTE, Wi-Fi, NFC, IR Bl...</td>\n",
       "      <td>Dimensity 7200 Ultra, Octa Core, 2.8 GHz Proce...</td>\n",
       "      <td>8 GB RAM, 256 GB inbuilt</td>\n",
       "      <td>5000 mAh Battery with 120W Fast Charging</td>\n",
       "      <td>6.67 inches, 1220 x 2712 px, 120 Hz Display wi...</td>\n",
       "      <td>200 MP + 8 MP + 2 MP Triple Rear &amp; 16 MP Front...</td>\n",
       "      <td>Memory Card Not Supported</td>\n",
       "      <td>Android v13</td>\n",
       "    </tr>\n",
       "    <tr>\n",
       "      <th>3</th>\n",
       "      <td>OPPO Reno 11 Pro</td>\n",
       "      <td>₹40,990</td>\n",
       "      <td>4.75</td>\n",
       "      <td>88.0</td>\n",
       "      <td>Dual Sim, 3G, 4G, 5G, VoLTE, Wi-Fi, NFC, IR Bl...</td>\n",
       "      <td>Dimensity 8200, Octa Core, 3.1 GHz Processor</td>\n",
       "      <td>12 GB RAM, 256 GB inbuilt</td>\n",
       "      <td>4600 mAh Battery with 80W Fast Charging</td>\n",
       "      <td>6.74 inches, 1240 x 2772 px, 120 Hz Display wi...</td>\n",
       "      <td>50 MP + 32 MP + 8 MP Triple Rear &amp; 32 MP Front...</td>\n",
       "      <td>Android v14</td>\n",
       "      <td>No FM Radio</td>\n",
       "    </tr>\n",
       "    <tr>\n",
       "      <th>4</th>\n",
       "      <td>Xiaomi Redmi Note 13 Pro Max 5G</td>\n",
       "      <td>₹33,999</td>\n",
       "      <td>4.00</td>\n",
       "      <td>87.0</td>\n",
       "      <td>Dual Sim, 3G, 4G, 5G, VoLTE, Wi-Fi, NFC, IR Bl...</td>\n",
       "      <td>Snapdragon 7 Gen1, Octa Core, 2.4 GHz Processor</td>\n",
       "      <td>12 GB RAM, 256 GB inbuilt</td>\n",
       "      <td>5200 mAh Battery with 120W Fast Charging</td>\n",
       "      <td>6.67 inches, 1220 x 2712 px, 144 Hz Display wi...</td>\n",
       "      <td>200 MP + 13 MP + 8 MP Triple Rear &amp; 32 MP Fron...</td>\n",
       "      <td>Memory Card Not Supported</td>\n",
       "      <td>Android v13</td>\n",
       "    </tr>\n",
       "  </tbody>\n",
       "</table>\n",
       "</div>"
      ],
      "text/plain": [
       "                       mobile_name    price  rating  specs_score  \\\n",
       "0                     OPPO Reno 11  ₹29,990    4.70         86.0   \n",
       "1                   Poco X6 Pro 5G  ₹19,999    4.50         84.0   \n",
       "2    Xiaomi Redmi Note 13 Pro Plus  ₹31,999    4.35         87.0   \n",
       "3                 OPPO Reno 11 Pro  ₹40,990    4.75         88.0   \n",
       "4  Xiaomi Redmi Note 13 Pro Max 5G  ₹33,999    4.00         87.0   \n",
       "\n",
       "                                        connectivity  \\\n",
       "0  Dual Sim, 3G, 4G, 5G, VoLTE, Wi-Fi, NFC, IR Bl...   \n",
       "1  Dual Sim, 3G, 4G, 5G, VoLTE, Wi-Fi, NFC, IR Bl...   \n",
       "2  Dual Sim, 3G, 4G, 5G, VoLTE, Wi-Fi, NFC, IR Bl...   \n",
       "3  Dual Sim, 3G, 4G, 5G, VoLTE, Wi-Fi, NFC, IR Bl...   \n",
       "4  Dual Sim, 3G, 4G, 5G, VoLTE, Wi-Fi, NFC, IR Bl...   \n",
       "\n",
       "                                           processor  \\\n",
       "0       Dimensity 8200, Octa Core, 3.1 GHz Processor   \n",
       "1  Dimensity 8300 Ultra, Octa Core, 3.35 GHz Proc...   \n",
       "2  Dimensity 7200 Ultra, Octa Core, 2.8 GHz Proce...   \n",
       "3       Dimensity 8200, Octa Core, 3.1 GHz Processor   \n",
       "4    Snapdragon 7 Gen1, Octa Core, 2.4 GHz Processor   \n",
       "\n",
       "                     storage                                   battery  \\\n",
       "0   8 GB RAM, 256 GB inbuilt   4800 mAh Battery with 67W Fast Charging   \n",
       "1  12 GB RAM, 256 GB inbuilt   5500 mAh Battery with 90W Fast Charging   \n",
       "2   8 GB RAM, 256 GB inbuilt  5000 mAh Battery with 120W Fast Charging   \n",
       "3  12 GB RAM, 256 GB inbuilt   4600 mAh Battery with 80W Fast Charging   \n",
       "4  12 GB RAM, 256 GB inbuilt  5200 mAh Battery with 120W Fast Charging   \n",
       "\n",
       "                                             display  \\\n",
       "0  6.7 inches, 1080 x 2412 px, 120 Hz Display wit...   \n",
       "1  6.67 inches, 1220 x 2712 px, 120 Hz Display wi...   \n",
       "2  6.67 inches, 1220 x 2712 px, 120 Hz Display wi...   \n",
       "3  6.74 inches, 1240 x 2772 px, 120 Hz Display wi...   \n",
       "4  6.67 inches, 1220 x 2712 px, 144 Hz Display wi...   \n",
       "\n",
       "                                              camera  \\\n",
       "0  50 MP + 32 MP + 8 MP Triple Rear & 32 MP Front...   \n",
       "1  64 MP + 8 MP + 2 MP Triple Rear & 16 MP Front ...   \n",
       "2  200 MP + 8 MP + 2 MP Triple Rear & 16 MP Front...   \n",
       "3  50 MP + 32 MP + 8 MP Triple Rear & 32 MP Front...   \n",
       "4  200 MP + 13 MP + 8 MP Triple Rear & 32 MP Fron...   \n",
       "\n",
       "               extra_storage           os  \n",
       "0                Android v14  No FM Radio  \n",
       "1                Android v14  No FM Radio  \n",
       "2  Memory Card Not Supported  Android v13  \n",
       "3                Android v14  No FM Radio  \n",
       "4  Memory Card Not Supported  Android v13  "
      ]
     },
     "metadata": {},
     "output_type": "display_data"
    },
    {
     "name": "stdout",
     "output_type": "stream",
     "text": [
      "\n",
      "Dataset Info:\n",
      "<class 'pandas.core.frame.DataFrame'>\n",
      "RangeIndex: 1020 entries, 0 to 1019\n",
      "Data columns (total 12 columns):\n",
      " #   Column         Non-Null Count  Dtype  \n",
      "---  ------         --------------  -----  \n",
      " 0   mobile_name    1020 non-null   object \n",
      " 1   price          1020 non-null   object \n",
      " 2   rating         1020 non-null   float64\n",
      " 3   specs_score    865 non-null    float64\n",
      " 4   connectivity   1020 non-null   object \n",
      " 5   processor      1020 non-null   object \n",
      " 6   storage        1020 non-null   object \n",
      " 7   battery        1020 non-null   object \n",
      " 8   display        1020 non-null   object \n",
      " 9   camera         1020 non-null   object \n",
      " 10  extra_storage  1017 non-null   object \n",
      " 11  os             1009 non-null   object \n",
      "dtypes: float64(2), object(10)\n",
      "memory usage: 95.8+ KB\n",
      "None\n",
      "\n",
      "Missing Values Summary:\n",
      "mobile_name        0\n",
      "price              0\n",
      "rating             0\n",
      "specs_score      155\n",
      "connectivity       0\n",
      "processor          0\n",
      "storage            0\n",
      "battery            0\n",
      "display            0\n",
      "camera             0\n",
      "extra_storage      3\n",
      "os                11\n",
      "dtype: int64\n"
     ]
    }
   ],
   "source": [
    "# Load dataset\n",
    "df = pd.read_csv('mobiles.csv')\n",
    "\n",
    "# Initial data inspection\n",
    "print(\"\\nInitial Dataset Shape:\", df.shape)\n",
    "print(\"\\nFirst 5 Rows:\")\n",
    "display(df.head())\n",
    "\n",
    "print(\"\\nDataset Info:\")\n",
    "print(df.info())\n",
    "\n",
    "print(\"\\nMissing Values Summary:\")\n",
    "print(df.isnull().sum())\n"
   ]
  },
  {
   "cell_type": "markdown",
   "metadata": {},
   "source": [
    "## 3. Handle Missing Values"
   ]
  },
  {
   "cell_type": "markdown",
   "metadata": {},
   "source": [
    "### 3.1 Numerical Columns Processing"
   ]
  },
  {
   "cell_type": "code",
   "execution_count": 5,
   "metadata": {},
   "outputs": [],
   "source": [
    "num_cols = ['price', 'rating', 'specs_score', 'storage', 'battery']\n",
    "\n",
    "for col in num_cols:\n",
    "    # Currency conversion for price\n",
    "    if col == 'price':\n",
    "        df[col] = df[col].replace(r'[₹,]', '', regex=True).astype(float)\n",
    "    \n",
    "    # Extract numerical values from text fields\n",
    "    elif col == 'storage':\n",
    "        df[col] = df[col].str.extract(r'(\\d+)\\s*GB inbuilt', expand=False).astype(float)\n",
    "    \n",
    "    elif col == 'battery':\n",
    "        df[col] = df[col].str.extract(r'(\\d+)', expand=False).astype(float)\n",
    "    \n",
    "    # Convert to numeric and handle NaNs\n",
    "    else:\n",
    "        df[col] = pd.to_numeric(df[col], errors='coerce')\n",
    "    \n",
    "    # Median imputation\n",
    "    if df[col].notna().any():\n",
    "        df[col] = df[col].fillna(df[col].median())\n",
    "    else:\n",
    "        print(f\"Warning: Column '{col}' has no valid values\")\n"
   ]
  },
  {
   "cell_type": "markdown",
   "metadata": {},
   "source": [
    "### 3.2 Categorical Columns Processing"
   ]
  },
  {
   "cell_type": "code",
   "execution_count": 6,
   "metadata": {},
   "outputs": [],
   "source": [
    "cat_cols = ['connectivity', 'processor', 'display', 'camera', 'extra_storage', 'os']\n",
    "\n",
    "# Impute missing values and standardize text\n",
    "for col in cat_cols:\n",
    "    df[col] = df[col].fillna('Unknown').str.lower()\n",
    "\n",
    "# Remove duplicates\n",
    "df = df.drop_duplicates()\n"
   ]
  },
  {
   "cell_type": "markdown",
   "metadata": {},
   "source": [
    "## 4. Feature Engineering"
   ]
  },
  {
   "cell_type": "markdown",
   "metadata": {},
   "source": [
    "### 4.1 Display Feature Extraction"
   ]
  },
  {
   "cell_type": "code",
   "execution_count": 7,
   "metadata": {},
   "outputs": [],
   "source": [
    "def extract_display_features(display_str):\n",
    "    \"\"\"Extract screen size, resolution, and refresh rate from display description\"\"\"\n",
    "    size = re.search(r'(\\d+\\.\\d+)\\s*inches', display_str)\n",
    "    resolution = re.search(r'(\\d+\\s*x\\s*\\d+)', display_str)\n",
    "    refresh_rate = re.search(r'(\\d+)\\s*hz', display_str)\n",
    "    return (\n",
    "        float(size.group(1)) if size else np.nan,\n",
    "        resolution.group(1) if resolution else 'Unknown',\n",
    "        int(refresh_rate.group(1)) if refresh_rate else np.nan\n",
    "    )\n",
    "\n",
    "# Apply feature extraction\n",
    "df['screen_size'], df['resolution'], df['refresh_rate'] = zip(*df['display'].apply(extract_display_features))\n"
   ]
  },
  {
   "cell_type": "markdown",
   "metadata": {},
   "source": [
    "### 4.2 Outlier Handling"
   ]
  },
  {
   "cell_type": "code",
   "execution_count": 8,
   "metadata": {},
   "outputs": [],
   "source": [
    "# Cap prices at 99th percentile\n",
    "price_cap = df['price'].quantile(0.99)\n",
    "df['price'] = np.where(df['price'] > price_cap, price_cap, df['price'])\n"
   ]
  },
  {
   "cell_type": "markdown",
   "metadata": {},
   "source": [
    "## 5. Feature Encoding and Scaling"
   ]
  },
  {
   "cell_type": "markdown",
   "metadata": {},
   "source": [
    "### 5.1 One-Hot Encoding"
   ]
  },
  {
   "cell_type": "code",
   "execution_count": 9,
   "metadata": {},
   "outputs": [],
   "source": [
    "# Encode categorical features\n",
    "encoder = OneHotEncoder(handle_unknown='ignore', sparse_output=False)\n",
    "encoded_cols = encoder.fit_transform(df[cat_cols + ['resolution']])\n",
    "encoded_df = pd.DataFrame(encoded_cols, columns=encoder.get_feature_names_out(cat_cols + ['resolution']))\n",
    "\n",
    "# Merge encoded features\n",
    "df = pd.concat([df.drop(cat_cols + ['resolution'], axis=1), encoded_df], axis=1)\n"
   ]
  },
  {
   "cell_type": "markdown",
   "metadata": {},
   "source": [
    "### 5.2 Feature Scaling"
   ]
  },
  {
   "cell_type": "code",
   "execution_count": 10,
   "metadata": {},
   "outputs": [],
   "source": [
    "# Scale numerical features\n",
    "scaler = StandardScaler()\n",
    "scaled_features = num_cols + ['screen_size', 'refresh_rate']\n",
    "df[scaled_features] = scaler.fit_transform(df[scaled_features])\n",
    "\n",
    "# Create new feature\n",
    "df['battery_per_screen_size'] = df['battery'] / df['screen_size']\n"
   ]
  },
  {
   "cell_type": "markdown",
   "metadata": {},
   "source": [
    "## 6. Train-Test Split"
   ]
  },
  {
   "cell_type": "code",
   "execution_count": 11,
   "metadata": {},
   "outputs": [
    {
     "name": "stdout",
     "output_type": "stream",
     "text": [
      "\n",
      "Final Training Set Shape: (816, 1195)\n",
      "\n",
      "Missing Values in Training Data:\n",
      "rating                      1\n",
      "specs_score                 1\n",
      "storage                     1\n",
      "battery                     1\n",
      "screen_size                23\n",
      "                           ..\n",
      "resolution_720 x 1680       1\n",
      "resolution_750 x 1334       1\n",
      "resolution_828 x 1792       1\n",
      "resolution_Unknown          1\n",
      "battery_per_screen_size    23\n",
      "Length: 1195, dtype: int64\n"
     ]
    }
   ],
   "source": [
    "# Prepare data for modeling\n",
    "X = df.drop(['mobile_name', 'price'], axis=1)\n",
    "y = df['price']\n",
    "\n",
    "# Split dataset\n",
    "X_train, X_test, y_train, y_test = train_test_split(\n",
    "    X, y, \n",
    "    test_size=0.2, \n",
    "    random_state=42\n",
    ")\n",
    "\n",
    "# Final validation\n",
    "print(\"\\nFinal Training Set Shape:\", X_train.shape)\n",
    "print(\"\\nMissing Values in Training Data:\")\n",
    "print(X_train.isnull().sum())\n"
   ]
  }
 ],
 "metadata": {
  "kernelspec": {
   "display_name": ".venv (3.13.3)",
   "language": "python",
   "name": "python3"
  },
  "language_info": {
   "codemirror_mode": {
    "name": "ipython",
    "version": 3
   },
   "file_extension": ".py",
   "mimetype": "text/x-python",
   "name": "python",
   "nbconvert_exporter": "python",
   "pygments_lexer": "ipython3",
   "version": "3.13.3"
  }
 },
 "nbformat": 4,
 "nbformat_minor": 2
}
